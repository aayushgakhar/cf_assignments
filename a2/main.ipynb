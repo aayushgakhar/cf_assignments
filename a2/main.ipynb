{
 "cells": [
  {
   "cell_type": "code",
   "execution_count": 25,
   "metadata": {},
   "outputs": [],
   "source": [
    "import numpy as np\n",
    "import pandas as pd\n",
    "from sklearn.metrics.pairwise import cosine_similarity\n",
    "from sklearn.metrics import mean_absolute_error\n",
    "import seaborn as sns\n",
    "import matplotlib.pyplot as plt\n"
   ]
  },
  {
   "cell_type": "code",
   "execution_count": 26,
   "metadata": {},
   "outputs": [],
   "source": [
    "# Load the data\n",
    "data = pd.read_csv('ml-100k/u.data', sep='\\t', header=None,\n",
    "                   names=['user_id', 'item_id', 'rating', 'timestamp'])\n",
    "\n",
    "folds = []\n",
    "n_users = 943\n",
    "n_items = 1682\n",
    "for i in range(1, 6):\n",
    "    train = pd.read_csv('ml-100k/u' + str(i) + '.base', sep='\\t', header=None,\n",
    "                        names=['user_id', 'item_id', 'rating', 'timestamp'])\n",
    "    test = pd.read_csv('ml-100k/u' + str(i) + '.test', sep='\\t', header=None,\n",
    "                       names=['user_id', 'item_id', 'rating', 'timestamp'])\n",
    "    ratings = np.zeros((n_users, n_items))\n",
    "\n",
    "    for row in train.itertuples():\n",
    "        ratings[row[1]-1, row[2]-1] = row[3]\n",
    "    folds.append({'train': train, 'test': test, 'ratings': ratings})\n",
    "\n"
   ]
  },
  {
   "cell_type": "code",
   "execution_count": 27,
   "metadata": {},
   "outputs": [],
   "source": [
    "# Define ALS function\n",
    "def als(ratings, K=20, lambda_=0.1, n_iterations=10):\n",
    "    m, n = ratings.shape\n",
    "    U = np.random.rand(m, K)\n",
    "    V = np.random.rand(n, K)\n",
    "    for i in range(n_iterations):\n",
    "        # Update user matrix\n",
    "        for u in range(m):\n",
    "            V_u = V[ratings[u, :] > 0, :]\n",
    "            A = np.dot(V_u.T, V_u) + lambda_ * np.eye(K)\n",
    "            b = np.dot(V_u.T, ratings[u, ratings[u, :] > 0])\n",
    "            U[u, :] = np.linalg.solve(A, b)\n",
    "        # Update item matrix\n",
    "        for v in range(n):\n",
    "            U_v = U[ratings[:, v] > 0, :]\n",
    "            A = np.dot(U_v.T, U_v) + lambda_ * np.eye(K)\n",
    "            b = np.dot(U_v.T, ratings[ratings[:, v] > 0, v])\n",
    "            V[v, :] = np.linalg.solve(A, b)\n",
    "    return U, V"
   ]
  },
  {
   "cell_type": "code",
   "execution_count": 28,
   "metadata": {},
   "outputs": [],
   "source": [
    "def lfm(ratings, test_data, param):\n",
    "    # Run ALS\n",
    "    U, V = als(ratings, K=param[0], lambda_=param[1], n_iterations=param[2])\n",
    "\n",
    "    # Impute missing values\n",
    "    ratings_imputed = np.dot(U, V.T)\n",
    "\n",
    "    y_true = test_data['rating'].values\n",
    "    y_pred = ratings_imputed[test_data['user_id'] -\n",
    "                             1, test_data['item_id'] - 1]\n",
    "\n",
    "    errors = np.array(y_true) - np.array(y_pred)\n",
    "    nmae = np.mean(np.abs(errors)) / np.mean(np.abs(y_true))\n",
    "    return nmae"
   ]
  },
  {
   "cell_type": "code",
   "execution_count": 29,
   "metadata": {},
   "outputs": [],
   "source": [
    "def cross_validation(folds, param):\n",
    "    # Initialize the list of NMAEs\n",
    "    nmaes = []\n",
    "\n",
    "    # For each fold\n",
    "    for fold in folds:\n",
    "        # Compute the MAE for the algorithm and the fold\n",
    "        nmae = lfm(fold['ratings'], fold['test'], param)\n",
    "\n",
    "        # Add the MAE to the list of NMAEs\n",
    "        nmaes.append(nmae)\n",
    "\n",
    "    avg_nmae = np.mean(nmaes)\n",
    "    nmaes.append(avg_nmae)\n",
    "\n",
    "    # Return the list of NMAEs\n",
    "    return nmaes"
   ]
  },
  {
   "cell_type": "code",
   "execution_count": 30,
   "metadata": {},
   "outputs": [
    {
     "name": "stdout",
     "output_type": "stream",
     "text": [
      "1\n",
      "1\n",
      "1\n",
      "1\n",
      "1\n",
      "1\n",
      "1\n"
     ]
    }
   ],
   "source": [
    "nmaes = []\n",
    "params = [(10, 0.1, 10), (10, 0.1, 50), (20, 0.5, 20),\n",
    "          (7, 0.5, 50), (10, 1, 10), (10, 0.1, 50), (20, 0.5, 20)]\n",
    "for param in params:\n",
    "    nmaes.append(cross_validation(folds, param))\n",
    "    print(1)"
   ]
  },
  {
   "cell_type": "code",
   "execution_count": 31,
   "metadata": {},
   "outputs": [
    {
     "data": {
      "text/html": [
       "<div>\n",
       "<style scoped>\n",
       "    .dataframe tbody tr th:only-of-type {\n",
       "        vertical-align: middle;\n",
       "    }\n",
       "\n",
       "    .dataframe tbody tr th {\n",
       "        vertical-align: top;\n",
       "    }\n",
       "\n",
       "    .dataframe thead th {\n",
       "        text-align: right;\n",
       "    }\n",
       "</style>\n",
       "<table border=\"1\" class=\"dataframe\">\n",
       "  <thead>\n",
       "    <tr style=\"text-align: right;\">\n",
       "      <th></th>\n",
       "      <th>params(K, lambda, iterations)</th>\n",
       "      <th>Fold 1</th>\n",
       "      <th>Fold 2</th>\n",
       "      <th>Fold 3</th>\n",
       "      <th>Fold 4</th>\n",
       "      <th>Fold 5</th>\n",
       "      <th>Average</th>\n",
       "    </tr>\n",
       "  </thead>\n",
       "  <tbody>\n",
       "    <tr>\n",
       "      <th>0</th>\n",
       "      <td>(10, 0.1, 10)</td>\n",
       "      <td>0.255809</td>\n",
       "      <td>0.245550</td>\n",
       "      <td>0.249534</td>\n",
       "      <td>0.250585</td>\n",
       "      <td>0.255597</td>\n",
       "      <td>0.251415</td>\n",
       "    </tr>\n",
       "    <tr>\n",
       "      <th>1</th>\n",
       "      <td>(10, 0.1, 50)</td>\n",
       "      <td>0.266411</td>\n",
       "      <td>0.251052</td>\n",
       "      <td>0.256275</td>\n",
       "      <td>0.258541</td>\n",
       "      <td>0.267461</td>\n",
       "      <td>0.259948</td>\n",
       "    </tr>\n",
       "    <tr>\n",
       "      <th>2</th>\n",
       "      <td>(20, 0.5, 20)</td>\n",
       "      <td>0.271542</td>\n",
       "      <td>0.267112</td>\n",
       "      <td>0.272208</td>\n",
       "      <td>0.271557</td>\n",
       "      <td>0.271301</td>\n",
       "      <td>0.270744</td>\n",
       "    </tr>\n",
       "    <tr>\n",
       "      <th>3</th>\n",
       "      <td>(7, 0.5, 50)</td>\n",
       "      <td>0.226252</td>\n",
       "      <td>0.220204</td>\n",
       "      <td>0.221460</td>\n",
       "      <td>0.223701</td>\n",
       "      <td>0.226554</td>\n",
       "      <td>0.223634</td>\n",
       "    </tr>\n",
       "    <tr>\n",
       "      <th>4</th>\n",
       "      <td>(10, 1, 10)</td>\n",
       "      <td>0.230087</td>\n",
       "      <td>0.224742</td>\n",
       "      <td>0.226455</td>\n",
       "      <td>0.225682</td>\n",
       "      <td>0.227312</td>\n",
       "      <td>0.226855</td>\n",
       "    </tr>\n",
       "    <tr>\n",
       "      <th>5</th>\n",
       "      <td>(10, 0.1, 50)</td>\n",
       "      <td>0.267488</td>\n",
       "      <td>0.258221</td>\n",
       "      <td>0.258304</td>\n",
       "      <td>0.252114</td>\n",
       "      <td>0.263533</td>\n",
       "      <td>0.259932</td>\n",
       "    </tr>\n",
       "    <tr>\n",
       "      <th>6</th>\n",
       "      <td>(20, 0.5, 20)</td>\n",
       "      <td>0.271207</td>\n",
       "      <td>0.270691</td>\n",
       "      <td>0.272216</td>\n",
       "      <td>0.272727</td>\n",
       "      <td>0.272760</td>\n",
       "      <td>0.271920</td>\n",
       "    </tr>\n",
       "  </tbody>\n",
       "</table>\n",
       "</div>"
      ],
      "text/plain": [
       "  params(K, lambda, iterations)    Fold 1    Fold 2    Fold 3    Fold 4  \\\n",
       "0                 (10, 0.1, 10)  0.255809  0.245550  0.249534  0.250585   \n",
       "1                 (10, 0.1, 50)  0.266411  0.251052  0.256275  0.258541   \n",
       "2                 (20, 0.5, 20)  0.271542  0.267112  0.272208  0.271557   \n",
       "3                  (7, 0.5, 50)  0.226252  0.220204  0.221460  0.223701   \n",
       "4                   (10, 1, 10)  0.230087  0.224742  0.226455  0.225682   \n",
       "5                 (10, 0.1, 50)  0.267488  0.258221  0.258304  0.252114   \n",
       "6                 (20, 0.5, 20)  0.271207  0.270691  0.272216  0.272727   \n",
       "\n",
       "     Fold 5   Average  \n",
       "0  0.255597  0.251415  \n",
       "1  0.267461  0.259948  \n",
       "2  0.271301  0.270744  \n",
       "3  0.226554  0.223634  \n",
       "4  0.227312  0.226855  \n",
       "5  0.263533  0.259932  \n",
       "6  0.272760  0.271920  "
      ]
     },
     "execution_count": 31,
     "metadata": {},
     "output_type": "execute_result"
    }
   ],
   "source": [
    "nmaes = np.array(nmaes)\n",
    "results = pd.DataFrame({'params(K, lambda, iterations)': params, 'Fold 1': nmaes[:, 0], 'Fold 2': nmaes[:, 1], 'Fold 3': nmaes[:,\n",
    "                       2], 'Fold 4': nmaes[:, 3], 'Fold 5': nmaes[:, 4], 'Average': nmaes[:, 5]})\n",
    "# results.set_index('params', inplace=True)\n",
    "results"
   ]
  },
  {
   "cell_type": "code",
   "execution_count": 37,
   "metadata": {},
   "outputs": [
    {
     "name": "stdout",
     "output_type": "stream",
     "text": [
      "1\n"
     ]
    },
    {
     "data": {
      "text/plain": [
       "[[0.21377426602578217,\n",
       "  0.21110844833916656,\n",
       "  0.2118057326136168,\n",
       "  0.2119654470937277,\n",
       "  0.21353425849346827,\n",
       "  0.2124376305131523]]"
      ]
     },
     "execution_count": 37,
     "metadata": {},
     "output_type": "execute_result"
    }
   ],
   "source": [
    "nmaes = []\n",
    "params = [(1,0.1,10)]\n",
    "for param in params:\n",
    "    nmaes.append(cross_validation(folds, param))\n",
    "    print(1)\n",
    "nmaes"
   ]
  }
 ],
 "metadata": {
  "kernelspec": {
   "display_name": ".venv",
   "language": "python",
   "name": "python3"
  },
  "language_info": {
   "codemirror_mode": {
    "name": "ipython",
    "version": 3
   },
   "file_extension": ".py",
   "mimetype": "text/x-python",
   "name": "python",
   "nbconvert_exporter": "python",
   "pygments_lexer": "ipython3",
   "version": "3.10.10"
  },
  "orig_nbformat": 4
 },
 "nbformat": 4,
 "nbformat_minor": 2
}
